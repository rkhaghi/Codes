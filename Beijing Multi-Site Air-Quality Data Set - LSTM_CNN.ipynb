{
  "nbformat": 4,
  "nbformat_minor": 0,
  "metadata": {
    "colab": {
      "name": "Untitled4.ipynb",
      "provenance": [],
      "collapsed_sections": []
    },
    "kernelspec": {
      "name": "python3",
      "display_name": "Python 3"
    },
    "language_info": {
      "name": "python"
    }
  },
  "cells": [
    {
      "cell_type": "code",
      "metadata": {
        "id": "dXetP4MRx2e3"
      },
      "source": [
        "\n",
        "import pandas as pd\n",
        "import numpy as np\n",
        "import os\n",
        "import glob\n",
        "import re\n",
        "import matplotlib.pyplot as plt\n",
        "import seaborn as sns\n",
        "import sklearn\n",
        "from sklearn.preprocessing import StandardScaler\n",
        "from sklearn.model_selection import train_test_split\n",
        "import xgboost\n",
        "from sklearn.decomposition import PCA\n",
        "from sklearn.metrics import confusion_matrix\n",
        "from sklearn import preprocessing\n",
        "from sklearn.preprocessing import LabelEncoder, MinMaxScaler\n",
        "from sklearn.compose import ColumnTransformer\n",
        "\n",
        "import tqdm\n",
        "#All tensorflow utilities for creating, training and working with a CNN\n",
        "from tensorflow.keras.utils import to_categorical\n",
        "from tensorflow.keras.models import Sequential\n",
        "from tensorflow.keras.layers import Conv2D, MaxPool2D, BatchNormalization\n",
        "from tensorflow.keras.layers import Conv1D, MaxPool1D, BatchNormalization\n",
        "from tensorflow.keras.layers import Activation, Dropout, Flatten, Dense\n",
        "from tensorflow.keras.losses import categorical_crossentropy\n",
        "from tensorflow.keras.optimizers import Adam\n",
        "from tensorflow.keras.callbacks import ModelCheckpoint\n",
        "from tensorflow.keras.models import load_model\n",
        "import  tensorflow as tf\n",
        "tf.config.run_functions_eagerly(True)\n",
        "from tensorflow import keras\n",
        "from keras.models import Model, Sequential\n",
        "from keras.layers import LSTM, Dense, Dropout\n",
        "from keras.utils import np_utils\n",
        "from sklearn.preprocessing import StandardScaler\n",
        "from sklearn.metrics import mean_squared_error\n",
        "import numpy as np\n",
        "from sklearn.metrics import accuracy_score\n",
        "from sklearn.preprocessing import StandardScaler\n",
        "\n",
        "\n"
      ],
      "execution_count": null,
      "outputs": []
    },
    {
      "cell_type": "code",
      "metadata": {
        "id": "O_4OET1xyBMA"
      },
      "source": [
        "\n",
        "\n",
        "path = '/content/drive/MyDrive/1-bez'\n",
        "os.chdir(path)\n",
        "csv_files = glob.glob(os.path.join(path, \"*.csv\"))\n",
        "\n",
        "df= pd.DataFrame()\n",
        "for i in (csv_files):\n",
        "    data = pd.read_csv(i)\n",
        "    df = df.append(data, ignore_index=True)\n",
        "\n",
        "date = pd.to_datetime(df[['year', 'month', 'day', 'hour']])\n",
        "df['date'] = date\n",
        "\n",
        "\n",
        "\n",
        "df.head()\n",
        "df.isnull().sum(axis=0).sort_values(ascending = False)\n",
        "df.describe()\n",
        "list(df)\n",
        "\n",
        "col = df.pop(\"date\")\n",
        "df.insert(0, \"date\", col)"
      ],
      "execution_count": null,
      "outputs": []
    },
    {
      "cell_type": "code",
      "metadata": {
        "id": "F1oH-j2kyktj"
      },
      "source": [
        "\n",
        "# drop unsued columns\n",
        "df.drop(['No','year', 'month','day', 'hour'], axis =1, inplace = True)\n",
        "\n",
        "\n",
        "df.isnull().sum(axis =0).sort_values(ascending = False)\n",
        "\n",
        "# fill na value with backward fill\n",
        "\n",
        "df.fillna(method='bfill', inplace=True)\n",
        "\n",
        "# check na values\n",
        "\n",
        "df.isnull().sum(axis =0).sort_values(ascending = False)\n",
        "\n",
        "\n",
        "# encode classes, in this case wd and station\n",
        "\n",
        "label_encoder = LabelEncoder()\n",
        "\n",
        "encoder_labels_station = label_encoder.fit_transform(df.station)\n",
        "\n",
        "df['label_station'] = encoder_labels_station\n",
        "\n",
        "\n",
        "\n",
        "encoder_labels_wd = label_encoder.fit_transform(df.wd)\n",
        "\n",
        "df['label_wd'] = encoder_labels_wd\n",
        "\n",
        "\n",
        "\n",
        "# remove columns with string value\n",
        "\n",
        "df.drop(['station', 'wd'], axis =1, inplace = True)"
      ],
      "execution_count": null,
      "outputs": []
    },
    {
      "cell_type": "code",
      "metadata": {
        "id": "HczL4ko1ynB5"
      },
      "source": [
        "\n",
        "# split data into training and testing dataset\n",
        "\n",
        "\n",
        "df.set_index('date', inplace = True)\n",
        "df.sort_values('date', inplace = True)\n",
        "\n",
        "X_train = df.iloc[0:(round(0.8*len(df))),]\n",
        "X_test = df.loc[df.index > str(X_train.index[-1])]\n",
        "\n",
        "\n",
        "\n",
        "\n",
        "\n",
        "#scale data between -1 1\n",
        "\n",
        "\n",
        "from sklearn.compose import ColumnTransformer\n",
        "from sklearn.preprocessing import StandardScaler\n",
        "\n",
        "ct = ColumnTransformer([\n",
        "        ('somename', MinMaxScaler(feature_range=(-1,1)), list(X_train.iloc[:, 2:]))\n",
        "    ], remainder='passthrough')\n",
        "\n",
        "\n",
        "X_train_scaled = ct.fit_transform(X_train)\n",
        "X_test_scaled = ct.fit_transform(X_test)\n",
        "\n",
        "\n",
        "\n",
        "# fix columns and indexes\n",
        "\n",
        "f =  [X_train.columns[2:].append(X_test.columns[[0,1]])]\n",
        "\n",
        "X_train_scaled = pd.DataFrame(X_train_scaled, index = X_train.index , columns=f)\n",
        "X_test_scaled = pd.DataFrame(X_test_scaled, index = X_test.index , columns=f)\n",
        "\n",
        "\n"
      ],
      "execution_count": null,
      "outputs": []
    },
    {
      "cell_type": "code",
      "metadata": {
        "id": "DPZOslngysMp"
      },
      "source": [
        "\n",
        "#Create sequences\n",
        "def create_sequence(input_data, X,  target_column, sequence_length):\n",
        "    \n",
        "    sequences_x=[]\n",
        "    sequences_y = []\n",
        "    data_size = len(input_data)\n",
        "    \n",
        "    \n",
        "    for k in range(data_size - sequence_length):\n",
        "        \n",
        "        \n",
        "        sequence = X[k:k+sequence_length]\n",
        "        \n",
        "        label_position = k + sequence_length\n",
        "        label = input_data.iloc[label_position][target_column]\n",
        "        \n",
        "        (sequences_x).append((sequence))\n",
        "        (sequences_y).append((label))\n",
        "        \n",
        "        \n",
        "    return np.array(sequences_x), np.array(sequences_y)\n"
      ],
      "execution_count": null,
      "outputs": []
    },
    {
      "cell_type": "code",
      "metadata": {
        "id": "-C_8uZNNyvmo"
      },
      "source": [
        "\n",
        "X_train_seq, Y_train_seq = create_sequence(X_train_scaled, X_train_scaled.iloc[:, 1:10], ['PM2.5','PM10'], 100)\n",
        "\n",
        "\n",
        "X_test_seq, Y_test_seq = create_sequence(X_test_scaled,X_test_scaled.iloc[:, 1:10], ['PM2.5','PM10'], 100)\n",
        "\n",
        "\n",
        "ct_2 = MinMaxScaler(feature_range=(-1, 1))\n",
        "\n",
        "Y_train_seq_scaled = ct_2.fit_transform(Y_train_seq)\n"
      ],
      "execution_count": null,
      "outputs": []
    },
    {
      "cell_type": "code",
      "metadata": {
        "colab": {
          "base_uri": "https://localhost:8080/"
        },
        "id": "0xE6_85mzLy8",
        "outputId": "369765b3-53da-4184-d0c5-fa3de4f41fec"
      },
      "source": [
        "\n",
        "\n",
        "# Build the model\n",
        "\n",
        "\n",
        "model = Sequential()\n",
        "model.add(LSTM(128,activation = 'relu', input_shape=(X_train_seq.shape[1], X_train_seq.shape[2]), dropout = 0.2))\n",
        "\n",
        "model.add(Dense(64, activation='relu'))\n",
        "model.add(Dropout(0.2))\n",
        "model.add(Dense(2))\n",
        "\n",
        "adam = keras.optimizers.Adam(lr= 0.00001)\n",
        "model.compile(loss='mean_squared_error', optimizer='adam')\n",
        "\n",
        "print(model.summary())\n",
        "\n",
        "\n",
        "\n",
        "\n",
        "model.fit(X_train_seq, Y_train_seq_scaled, epochs=3,validation_split=0.2, batch_size=512, verbose=1)\n"
      ],
      "execution_count": null,
      "outputs": [
        {
          "output_type": "stream",
          "name": "stderr",
          "text": [
            "/usr/local/lib/python3.7/dist-packages/keras/optimizer_v2/optimizer_v2.py:356: UserWarning: The `lr` argument is deprecated, use `learning_rate` instead.\n",
            "  \"The `lr` argument is deprecated, use `learning_rate` instead.\")\n"
          ]
        },
        {
          "output_type": "stream",
          "name": "stdout",
          "text": [
            "Model: \"sequential_2\"\n",
            "_________________________________________________________________\n",
            "Layer (type)                 Output Shape              Param #   \n",
            "=================================================================\n",
            "lstm_2 (LSTM)                (None, 128)               70656     \n",
            "_________________________________________________________________\n",
            "dense_4 (Dense)              (None, 64)                8256      \n",
            "_________________________________________________________________\n",
            "dropout_2 (Dropout)          (None, 64)                0         \n",
            "_________________________________________________________________\n",
            "dense_5 (Dense)              (None, 2)                 130       \n",
            "=================================================================\n",
            "Total params: 79,042\n",
            "Trainable params: 79,042\n",
            "Non-trainable params: 0\n",
            "_________________________________________________________________\n",
            "None\n"
          ]
        },
        {
          "output_type": "stream",
          "name": "stderr",
          "text": [
            "/usr/local/lib/python3.7/dist-packages/tensorflow/python/data/ops/dataset_ops.py:4212: UserWarning: Even though the `tf.config.experimental_run_functions_eagerly` option is set, this option does not apply to tf.data functions. To force eager execution of tf.data functions, please use `tf.data.experimental.enable_debug_mode()`.\n",
            "  \"Even though the `tf.config.experimental_run_functions_eagerly` \"\n"
          ]
        },
        {
          "output_type": "stream",
          "name": "stdout",
          "text": [
            "Epoch 1/3\n",
            "  28/1052 [..............................] - ETA: 12:49 - loss: 0.1444ERROR:tensorflow:==================================\n",
            "Object was never used (type <class 'tensorflow.python.ops.tensor_array_ops.TensorArray'>):\n",
            "<tensorflow.python.ops.tensor_array_ops.TensorArray object at 0x7f8f9ea200d0>\n",
            "If you want to mark it as used call its \"mark_used()\" method.\n",
            "It was originally created here:\n",
            "  File \"/usr/local/lib/python3.7/dist-packages/keras/backend.py\", line 4495, in <genexpr>\n",
            "    ta.write(time, out) for ta, out in zip(output_ta_t, flat_output))  File \"/usr/local/lib/python3.7/dist-packages/tensorflow/python/util/tf_should_use.py\", line 249, in wrapped\n",
            "    error_in_function=error_in_function)\n",
            "==================================\n",
            "1052/1052 [==============================] - 903s 858ms/step - loss: 0.0244 - val_loss: 0.0441\n",
            "Epoch 2/3\n",
            "1052/1052 [==============================] - 874s 831ms/step - loss: 0.0161 - val_loss: 0.0927\n",
            "Epoch 3/3\n",
            "1052/1052 [==============================] - 876s 832ms/step - loss: 8879755.0000 - val_loss: 0.0380\n"
          ]
        }
      ]
    },
    {
      "cell_type": "code",
      "metadata": {
        "id": "-4hZmRfM09lT"
      },
      "source": [
        "preds = model.predict(X_test_seq, verbose = 1)"
      ],
      "execution_count": null,
      "outputs": []
    },
    {
      "cell_type": "code",
      "metadata": {
        "colab": {
          "base_uri": "https://localhost:8080/"
        },
        "id": "39UV9nmLAIS7",
        "outputId": "90db8589-b525-4704-c9ab-99dc5160f73d"
      },
      "source": [
        "Y_pred = ct_2.inverse_transform(preds) \n",
        "\n",
        "\n",
        "print('Test rmse:', np.sqrt(mean_squared_error(Y_test_seq, Y_pred)))\n",
        "\n"
      ],
      "execution_count": null,
      "outputs": [
        {
          "output_type": "stream",
          "name": "stdout",
          "text": [
            "Test rmse: 98.98159142570891\n"
          ]
        }
      ]
    },
    {
      "cell_type": "code",
      "metadata": {
        "colab": {
          "base_uri": "https://localhost:8080/",
          "height": 297
        },
        "id": "5GVVDrjEAc_w",
        "outputId": "1c8cd859-0450-492e-c713-a24d554df2b3"
      },
      "source": [
        "plt.plot( X_train.index , X_train['PM2.5'], label = 'Training')\n",
        "plt.plot( X_test.index , X_test['PM2.5'], label = 'Test')\n",
        "plt.plot( X_test.index[100:], Y_pred[:,0], label = 'Pred')\n",
        "plt.tight_layout()\n",
        "plt.show()"
      ],
      "execution_count": null,
      "outputs": [
        {
          "output_type": "display_data",
          "data": {
            "image/png": "[encoded data removed]",
            "text/plain": [
              "<Figure size 432x288 with 1 Axes>"
            ]
          },
          "metadata": {
            "needs_background": "light"
          }
        }
      ]
    },
    {
      "cell_type": "code",
      "metadata": {
        "colab": {
          "base_uri": "https://localhost:8080/"
        },
        "id": "8O8KLjbXAnlu",
        "outputId": "1877d6ee-a888-4293-e823-ed446f4a8a37"
      },
      "source": [
        "#cnn2d\n",
        "\n",
        "\n",
        "\n",
        "\n",
        "input_shape = (X_train_seq.shape[1], X_train_seq.shape[2],1)\n",
        "\n",
        "\n",
        "X_train_seq_cnn2d = X_train_seq.reshape(X_train_seq.shape[0], X_train_seq.shape[1], X_train_seq.shape[2],1)\n",
        "\n",
        "X_test_seq_cnn2d = X_test_seq.reshape(X_test_seq.shape[0], X_test_seq.shape[1], X_test_seq.shape[2],1)\n",
        "\n",
        "\n",
        "\n",
        "\n",
        "\n",
        "model = Sequential()\n",
        "\n",
        "model.add(Conv2D(filters = 16, kernel_size = (3, 3), activation='relu',\n",
        "                 input_shape= input_shape))\n",
        "model.add(BatchNormalization())\n",
        "model.add(Conv2D(filters = 16, kernel_size = (3, 3), activation='relu'))\n",
        "model.add(BatchNormalization())\n",
        "model.add(MaxPool2D(strides=(2,2)))\n",
        "model.add(Dropout(0.25))\n",
        "\n",
        "# model.add(Conv2D(filters = 32, kernel_size = (3, 3), activation='relu'))\n",
        "# model.add(BatchNormalization())\n",
        "# model.add(Conv2D(filters = 32, kernel_size = (3, 3), activation='relu'))\n",
        "# model.add(BatchNormalization())\n",
        "# model.add(MaxPool2D(strides=(2,2)))\n",
        "# model.add(Dropout(0.25))\n",
        "\n",
        "model.add(Flatten())\n",
        "model.add(Dense(32, activation='relu'))\n",
        "model.add(Dropout(0.25))\n",
        "\n",
        "model.add(Dense(64, activation='relu'))\n",
        "model.add(Dropout(0.4))\n",
        "model.add(Dense(2, activation='linear'))\n",
        "\n",
        "learning_rate = 0.00001\n",
        "\n",
        "model.compile(loss = 'mse',\n",
        "              optimizer = Adam(learning_rate))\n",
        "\n",
        "model.summary()\n",
        "\n",
        "\n",
        "\n",
        "#Train the CNN\n",
        "\n",
        "history = model.fit(X_train_seq_cnn2d,Y_train_seq_scaled , \n",
        "                    epochs = 20, batch_size = 256, \n",
        "                     verbose=1, \n",
        "                    validation_split=0.2)"
      ],
      "execution_count": null,
      "outputs": [
        {
          "output_type": "stream",
          "name": "stdout",
          "text": [
            "Model: \"sequential_3\"\n",
            "_________________________________________________________________\n",
            "Layer (type)                 Output Shape              Param #   \n",
            "=================================================================\n",
            "conv2d (Conv2D)              (None, 98, 7, 16)         160       \n",
            "_________________________________________________________________\n",
            "batch_normalization (BatchNo (None, 98, 7, 16)         64        \n",
            "_________________________________________________________________\n",
            "conv2d_1 (Conv2D)            (None, 96, 5, 16)         2320      \n",
            "_________________________________________________________________\n",
            "batch_normalization_1 (Batch (None, 96, 5, 16)         64        \n",
            "_________________________________________________________________\n",
            "max_pooling2d (MaxPooling2D) (None, 48, 2, 16)         0         \n",
            "_________________________________________________________________\n",
            "dropout_3 (Dropout)          (None, 48, 2, 16)         0         \n",
            "_________________________________________________________________\n",
            "flatten (Flatten)            (None, 1536)              0         \n",
            "_________________________________________________________________\n",
            "dense_6 (Dense)              (None, 32)                49184     \n",
            "_________________________________________________________________\n",
            "dropout_4 (Dropout)          (None, 32)                0         \n",
            "_________________________________________________________________\n",
            "dense_7 (Dense)              (None, 64)                2112      \n",
            "_________________________________________________________________\n",
            "dropout_5 (Dropout)          (None, 64)                0         \n",
            "_________________________________________________________________\n",
            "dense_8 (Dense)              (None, 2)                 130       \n",
            "=================================================================\n",
            "Total params: 54,034\n",
            "Trainable params: 53,970\n",
            "Non-trainable params: 64\n",
            "_________________________________________________________________\n"
          ]
        },
        {
          "output_type": "stream",
          "name": "stderr",
          "text": [
            "/usr/local/lib/python3.7/dist-packages/tensorflow/python/data/ops/dataset_ops.py:4212: UserWarning: Even though the `tf.config.experimental_run_functions_eagerly` option is set, this option does not apply to tf.data functions. To force eager execution of tf.data functions, please use `tf.data.experimental.enable_debug_mode()`.\n",
            "  \"Even though the `tf.config.experimental_run_functions_eagerly` \"\n"
          ]
        },
        {
          "output_type": "stream",
          "name": "stdout",
          "text": [
            "Epoch 1/20\n",
            "1052/1052 [==============================] - 288s 274ms/step - loss: 0.7132 - val_loss: 0.1398\n",
            "Epoch 2/20\n",
            "1052/1052 [==============================] - 284s 270ms/step - loss: 0.3010 - val_loss: 0.1287\n",
            "Epoch 3/20\n",
            "1052/1052 [==============================] - 287s 273ms/step - loss: 0.2416 - val_loss: 0.1139\n",
            "Epoch 4/20\n",
            "1052/1052 [==============================] - 284s 270ms/step - loss: 0.1999 - val_loss: 0.1005\n",
            "Epoch 5/20\n",
            "1052/1052 [==============================] - 287s 273ms/step - loss: 0.1666 - val_loss: 0.0825\n",
            "Epoch 6/20\n",
            "1052/1052 [==============================] - 285s 271ms/step - loss: 0.1396 - val_loss: 0.0672\n",
            "Epoch 7/20\n",
            "1052/1052 [==============================] - 286s 271ms/step - loss: 0.1175 - val_loss: 0.0591\n",
            "Epoch 8/20\n",
            "1052/1052 [==============================] - 289s 275ms/step - loss: 0.0997 - val_loss: 0.0538\n",
            "Epoch 9/20\n",
            "1052/1052 [==============================] - 288s 274ms/step - loss: 0.0856 - val_loss: 0.0524\n",
            "Epoch 10/20\n",
            "1052/1052 [==============================] - 289s 274ms/step - loss: 0.0755 - val_loss: 0.0473\n",
            "Epoch 11/20\n",
            "1052/1052 [==============================] - 289s 275ms/step - loss: 0.0667 - val_loss: 0.0489\n",
            "Epoch 12/20\n",
            "1052/1052 [==============================] - 287s 273ms/step - loss: 0.0606 - val_loss: 0.0453\n",
            "Epoch 13/20\n",
            "1052/1052 [==============================] - 287s 273ms/step - loss: 0.0551 - val_loss: 0.0441\n",
            "Epoch 14/20\n",
            "1052/1052 [==============================] - 291s 277ms/step - loss: 0.0505 - val_loss: 0.0415\n",
            "Epoch 15/20\n",
            "1052/1052 [==============================] - 291s 277ms/step - loss: 0.0469 - val_loss: 0.0370\n",
            "Epoch 16/20\n",
            "1052/1052 [==============================] - 291s 277ms/step - loss: 0.0437 - val_loss: 0.0357\n",
            "Epoch 17/20\n",
            "1052/1052 [==============================] - 289s 275ms/step - loss: 0.0410 - val_loss: 0.0331\n",
            "Epoch 18/20\n",
            "1052/1052 [==============================] - 287s 272ms/step - loss: 0.0387 - val_loss: 0.0295\n",
            "Epoch 19/20\n",
            "1052/1052 [==============================] - 291s 276ms/step - loss: 0.0366 - val_loss: 0.0280\n",
            "Epoch 20/20\n",
            "1052/1052 [==============================] - 290s 276ms/step - loss: 0.0347 - val_loss: 0.0257\n"
          ]
        }
      ]
    },
    {
      "cell_type": "code",
      "metadata": {
        "colab": {
          "base_uri": "https://localhost:8080/",
          "height": 368
        },
        "id": "lD3vooEFAs9i",
        "outputId": "39d1c26a-f24a-456a-8daf-b8a11f208703"
      },
      "source": [
        "\n",
        "\n",
        "results_cnn = (model.predict(X_test_seq_cnn2d))\n",
        "Y_pred_cnn = ct_2.inverse_transform(results_cnn) \n",
        "#repreds_cnn = np.argmax(preds, axis=-1)\n",
        "\n",
        "\n",
        "print('Test rmse:', np.sqrt(mean_squared_error(Y_test_seq[:,0],Y_pred_cnn[:,0])))\n",
        "\n",
        "\n",
        "\n",
        "plt.plot( X_train.index , X_train['PM2.5'], label = 'Training')\n",
        "plt.plot( X_test.index , X_test['PM2.5'], label = 'Test')\n",
        "plt.plot( X_test.index[100:], Y_pred_cnn[:,0], label = 'Pred')\n",
        "plt.tight_layout()\n",
        "plt.show()"
      ],
      "execution_count": null,
      "outputs": [
        {
          "output_type": "stream",
          "name": "stderr",
          "text": [
            "/usr/local/lib/python3.7/dist-packages/tensorflow/python/data/ops/dataset_ops.py:4212: UserWarning: Even though the `tf.config.experimental_run_functions_eagerly` option is set, this option does not apply to tf.data functions. To force eager execution of tf.data functions, please use `tf.data.experimental.enable_debug_mode()`.\n",
            "  \"Even though the `tf.config.experimental_run_functions_eagerly` \"\n"
          ]
        },
        {
          "output_type": "stream",
          "name": "stdout",
          "text": [
            "Test rmse: 75.79392928473712\n"
          ]
        },
        {
          "output_type": "display_data",
          "data": {
            "image/png": "[encoded data removed]",
            "text/plain": [
              "<Figure size 432x288 with 1 Axes>"
            ]
          },
          "metadata": {
            "needs_background": "light"
          }
        }
      ]
    },
    {
      "cell_type": "code",
      "metadata": {
        "colab": {
          "base_uri": "https://localhost:8080/"
        },
        "id": "phz3J2wPp_aP",
        "outputId": "e0b0efa3-078d-4912-abc1-02eb77d9e8d1"
      },
      "source": [
        " X_test.index[100:].shape"
      ],
      "execution_count": null,
      "outputs": [
        {
          "output_type": "execute_result",
          "data": {
            "text/plain": [
              "(84044,)"
            ]
          },
          "metadata": {},
          "execution_count": 26
        }
      ]
    },
    {
      "cell_type": "code",
      "metadata": {
        "colab": {
          "base_uri": "https://localhost:8080/"
        },
        "id": "Mn4XP8gXqEEX",
        "outputId": "887bb766-af63-4277-d4ad-3c2cf8c698e8"
      },
      "source": [
        "Y_pred_cnn[:,0].shape"
      ],
      "execution_count": null,
      "outputs": [
        {
          "output_type": "execute_result",
          "data": {
            "text/plain": [
              "(84044,)"
            ]
          },
          "metadata": {},
          "execution_count": 25
        }
      ]
    }
  ]
}