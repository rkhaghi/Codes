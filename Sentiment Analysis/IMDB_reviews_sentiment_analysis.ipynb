{
  "nbformat": 4,
  "nbformat_minor": 0,
  "metadata": {
    "colab": {
      "name": "IMDB_sentiment_analysis.ipynb",
      "provenance": [],
      "collapsed_sections": [],
      "machine_shape": "hm"
    },
    "kernelspec": {
      "name": "python3",
      "display_name": "Python 3"
    },
    "language_info": {
      "name": "python"
    },
    "gpuClass": "standard"
  },
  "cells": [
    {
      "cell_type": "code",
      "execution_count": 40,
      "metadata": {
        "id": "Zig340Q31qE5"
      },
      "outputs": [],
      "source": [
        "import tensorflow.keras as keras\n",
        "import numpy as np\n",
        "import pandas as pd\n",
        "import matplotlib.pyplot as plt\n",
        "import tensorflow as tf\n",
        "from sklearn.linear_model import LogisticRegression\n",
        "from sklearn.model_selection import cross_val_score\n",
        "from sklearn.metrics import f1_score\n",
        "import xgboost as xgb\n",
        "from xgboost.sklearn import XGBClassifier\n",
        "from sklearn import svm\n",
        "from sklearn.ensemble import RandomForestClassifier\n",
        "from sklearn.metrics import classification_report,confusion_matrix,accuracy_score\n",
        "import seaborn as sns\n",
        "from tensorflow.keras.models import Sequential\n",
        "from tensorflow.keras.layers import Dense, Dropout\n",
        "from sklearn.metrics import classification_report,confusion_matrix,accuracy_score\n",
        "from tensorflow.keras.wrappers.scikit_learn import KerasClassifier\n",
        "import string\n",
        "from tensorflow.keras.preprocessing import text, sequence\n",
        "from tensorflow.keras import layers, models, optimizers\n",
        "from tensorflow.keras.preprocessing.text import Tokenizer\n",
        "from tensorflow.keras.preprocessing.sequence import pad_sequences\n",
        "from tensorflow.keras.callbacks import ModelCheckpoint\n",
        "from tensorflow.keras.layers import LSTM,Dropout\n",
        "from tensorflow.keras.layers import Embedding\n",
        "from tensorflow.keras.preprocessing import sequence\n",
        "from tensorflow.keras.layers import LSTM, Conv1D, MaxPooling1D, Dropout\n",
        "from tensorflow.keras.callbacks import EarlyStopping"
      ]
    },
    {
      "cell_type": "code",
      "source": [
        "from google.colab import drive\n",
        "drive.mount('/content/drive')"
      ],
      "metadata": {
        "colab": {
          "base_uri": "https://localhost:8080/"
        },
        "id": "qey3exUiO2g1",
        "outputId": "2c2206d9-096c-4a99-b479-86a998276a0c"
      },
      "execution_count": 4,
      "outputs": [
        {
          "output_type": "stream",
          "name": "stdout",
          "text": [
            "Drive already mounted at /content/drive; to attempt to forcibly remount, call drive.mount(\"/content/drive\", force_remount=True).\n"
          ]
        }
      ]
    },
    {
      "cell_type": "code",
      "source": [
        "train_review_imdb=pd.read_csv(\"/content/drive/MyDrive/imdb_reviews.csv\")\n",
        "test_review_imdb=pd.read_csv(\"/content/drive/MyDrive/test_reviews.csv\")\n"
      ],
      "metadata": {
        "id": "hOnGuiPXbEUz"
      },
      "execution_count": 6,
      "outputs": []
    },
    {
      "cell_type": "code",
      "source": [
        "train_review_imdb.head()"
      ],
      "metadata": {
        "colab": {
          "base_uri": "https://localhost:8080/",
          "height": 206
        },
        "id": "PTWSiVtHb-Uu",
        "outputId": "f6652994-3397-4cd9-c9fc-cec3c7939a13"
      },
      "execution_count": 7,
      "outputs": [
        {
          "output_type": "execute_result",
          "data": {
            "text/plain": [
              "                                             Reviews Sentiment\n",
              "0  <START this film was just brilliant casting lo...  positive\n",
              "1  <START big hair big boobs bad music and a gian...  negative\n",
              "2  <START this has to be one of the worst films o...  negative\n",
              "3  <START the <UNK> <UNK> at storytelling the tra...  positive\n",
              "4  <START worst mistake of my life br br i picked...  negative"
            ],
            "text/html": [
              "\n",
              "  <div id=\"df-a6a12a59-209f-49eb-989b-aa85c67a7e5a\">\n",
              "    <div class=\"colab-df-container\">\n",
              "      <div>\n",
              "<style scoped>\n",
              "    .dataframe tbody tr th:only-of-type {\n",
              "        vertical-align: middle;\n",
              "    }\n",
              "\n",
              "    .dataframe tbody tr th {\n",
              "        vertical-align: top;\n",
              "    }\n",
              "\n",
              "    .dataframe thead th {\n",
              "        text-align: right;\n",
              "    }\n",
              "</style>\n",
              "<table border=\"1\" class=\"dataframe\">\n",
              "  <thead>\n",
              "    <tr style=\"text-align: right;\">\n",
              "      <th></th>\n",
              "      <th>Reviews</th>\n",
              "      <th>Sentiment</th>\n",
              "    </tr>\n",
              "  </thead>\n",
              "  <tbody>\n",
              "    <tr>\n",
              "      <th>0</th>\n",
              "      <td>&lt;START this film was just brilliant casting lo...</td>\n",
              "      <td>positive</td>\n",
              "    </tr>\n",
              "    <tr>\n",
              "      <th>1</th>\n",
              "      <td>&lt;START big hair big boobs bad music and a gian...</td>\n",
              "      <td>negative</td>\n",
              "    </tr>\n",
              "    <tr>\n",
              "      <th>2</th>\n",
              "      <td>&lt;START this has to be one of the worst films o...</td>\n",
              "      <td>negative</td>\n",
              "    </tr>\n",
              "    <tr>\n",
              "      <th>3</th>\n",
              "      <td>&lt;START the &lt;UNK&gt; &lt;UNK&gt; at storytelling the tra...</td>\n",
              "      <td>positive</td>\n",
              "    </tr>\n",
              "    <tr>\n",
              "      <th>4</th>\n",
              "      <td>&lt;START worst mistake of my life br br i picked...</td>\n",
              "      <td>negative</td>\n",
              "    </tr>\n",
              "  </tbody>\n",
              "</table>\n",
              "</div>\n",
              "      <button class=\"colab-df-convert\" onclick=\"convertToInteractive('df-a6a12a59-209f-49eb-989b-aa85c67a7e5a')\"\n",
              "              title=\"Convert this dataframe to an interactive table.\"\n",
              "              style=\"display:none;\">\n",
              "        \n",
              "  <svg xmlns=\"http://www.w3.org/2000/svg\" height=\"24px\"viewBox=\"0 0 24 24\"\n",
              "       width=\"24px\">\n",
              "    <path d=\"M0 0h24v24H0V0z\" fill=\"none\"/>\n",
              "    <path d=\"M18.56 5.44l.94 2.06.94-2.06 2.06-.94-2.06-.94-.94-2.06-.94 2.06-2.06.94zm-11 1L8.5 8.5l.94-2.06 2.06-.94-2.06-.94L8.5 2.5l-.94 2.06-2.06.94zm10 10l.94 2.06.94-2.06 2.06-.94-2.06-.94-.94-2.06-.94 2.06-2.06.94z\"/><path d=\"M17.41 7.96l-1.37-1.37c-.4-.4-.92-.59-1.43-.59-.52 0-1.04.2-1.43.59L10.3 9.45l-7.72 7.72c-.78.78-.78 2.05 0 2.83L4 21.41c.39.39.9.59 1.41.59.51 0 1.02-.2 1.41-.59l7.78-7.78 2.81-2.81c.8-.78.8-2.07 0-2.86zM5.41 20L4 18.59l7.72-7.72 1.47 1.35L5.41 20z\"/>\n",
              "  </svg>\n",
              "      </button>\n",
              "      \n",
              "  <style>\n",
              "    .colab-df-container {\n",
              "      display:flex;\n",
              "      flex-wrap:wrap;\n",
              "      gap: 12px;\n",
              "    }\n",
              "\n",
              "    .colab-df-convert {\n",
              "      background-color: #E8F0FE;\n",
              "      border: none;\n",
              "      border-radius: 50%;\n",
              "      cursor: pointer;\n",
              "      display: none;\n",
              "      fill: #1967D2;\n",
              "      height: 32px;\n",
              "      padding: 0 0 0 0;\n",
              "      width: 32px;\n",
              "    }\n",
              "\n",
              "    .colab-df-convert:hover {\n",
              "      background-color: #E2EBFA;\n",
              "      box-shadow: 0px 1px 2px rgba(60, 64, 67, 0.3), 0px 1px 3px 1px rgba(60, 64, 67, 0.15);\n",
              "      fill: #174EA6;\n",
              "    }\n",
              "\n",
              "    [theme=dark] .colab-df-convert {\n",
              "      background-color: #3B4455;\n",
              "      fill: #D2E3FC;\n",
              "    }\n",
              "\n",
              "    [theme=dark] .colab-df-convert:hover {\n",
              "      background-color: #434B5C;\n",
              "      box-shadow: 0px 1px 3px 1px rgba(0, 0, 0, 0.15);\n",
              "      filter: drop-shadow(0px 1px 2px rgba(0, 0, 0, 0.3));\n",
              "      fill: #FFFFFF;\n",
              "    }\n",
              "  </style>\n",
              "\n",
              "      <script>\n",
              "        const buttonEl =\n",
              "          document.querySelector('#df-a6a12a59-209f-49eb-989b-aa85c67a7e5a button.colab-df-convert');\n",
              "        buttonEl.style.display =\n",
              "          google.colab.kernel.accessAllowed ? 'block' : 'none';\n",
              "\n",
              "        async function convertToInteractive(key) {\n",
              "          const element = document.querySelector('#df-a6a12a59-209f-49eb-989b-aa85c67a7e5a');\n",
              "          const dataTable =\n",
              "            await google.colab.kernel.invokeFunction('convertToInteractive',\n",
              "                                                     [key], {});\n",
              "          if (!dataTable) return;\n",
              "\n",
              "          const docLinkHtml = 'Like what you see? Visit the ' +\n",
              "            '<a target=\"_blank\" href=https://colab.research.google.com/notebooks/data_table.ipynb>data table notebook</a>'\n",
              "            + ' to learn more about interactive tables.';\n",
              "          element.innerHTML = '';\n",
              "          dataTable['output_type'] = 'display_data';\n",
              "          await google.colab.output.renderOutput(dataTable, element);\n",
              "          const docLink = document.createElement('div');\n",
              "          docLink.innerHTML = docLinkHtml;\n",
              "          element.appendChild(docLink);\n",
              "        }\n",
              "      </script>\n",
              "    </div>\n",
              "  </div>\n",
              "  "
            ]
          },
          "metadata": {},
          "execution_count": 7
        }
      ]
    },
    {
      "cell_type": "code",
      "source": [
        "word_index_integer=pd.read_csv(\"/content/drive/MyDrive/word_indexes.csv\")\n"
      ],
      "metadata": {
        "id": "delgigS1cLa-"
      },
      "execution_count": 8,
      "outputs": []
    },
    {
      "cell_type": "markdown",
      "metadata": {
        "id": "cOfnoRhGXogV"
      },
      "source": [
        "\n",
        " transform the string data into integer format"
      ]
    },
    {
      "cell_type": "code",
      "source": [
        "word_index_integer.head()\n"
      ],
      "metadata": {
        "colab": {
          "base_uri": "https://localhost:8080/",
          "height": 206
        },
        "id": "Vda1U2VPcWyP",
        "outputId": "559a20bb-4e2e-40f3-9890-9b94c852b8d7"
      },
      "execution_count": 9,
      "outputs": [
        {
          "output_type": "execute_result",
          "data": {
            "text/plain": [
              "     Words  Indexes\n",
              "0  tsukino    52009\n",
              "1  nunnery    52010\n",
              "2    sonja    16819\n",
              "3     vani    63954\n",
              "4    woods     1411"
            ],
            "text/html": [
              "\n",
              "  <div id=\"df-3ed962f1-9e53-4597-b2b0-1fff408a1c56\">\n",
              "    <div class=\"colab-df-container\">\n",
              "      <div>\n",
              "<style scoped>\n",
              "    .dataframe tbody tr th:only-of-type {\n",
              "        vertical-align: middle;\n",
              "    }\n",
              "\n",
              "    .dataframe tbody tr th {\n",
              "        vertical-align: top;\n",
              "    }\n",
              "\n",
              "    .dataframe thead th {\n",
              "        text-align: right;\n",
              "    }\n",
              "</style>\n",
              "<table border=\"1\" class=\"dataframe\">\n",
              "  <thead>\n",
              "    <tr style=\"text-align: right;\">\n",
              "      <th></th>\n",
              "      <th>Words</th>\n",
              "      <th>Indexes</th>\n",
              "    </tr>\n",
              "  </thead>\n",
              "  <tbody>\n",
              "    <tr>\n",
              "      <th>0</th>\n",
              "      <td>tsukino</td>\n",
              "      <td>52009</td>\n",
              "    </tr>\n",
              "    <tr>\n",
              "      <th>1</th>\n",
              "      <td>nunnery</td>\n",
              "      <td>52010</td>\n",
              "    </tr>\n",
              "    <tr>\n",
              "      <th>2</th>\n",
              "      <td>sonja</td>\n",
              "      <td>16819</td>\n",
              "    </tr>\n",
              "    <tr>\n",
              "      <th>3</th>\n",
              "      <td>vani</td>\n",
              "      <td>63954</td>\n",
              "    </tr>\n",
              "    <tr>\n",
              "      <th>4</th>\n",
              "      <td>woods</td>\n",
              "      <td>1411</td>\n",
              "    </tr>\n",
              "  </tbody>\n",
              "</table>\n",
              "</div>\n",
              "      <button class=\"colab-df-convert\" onclick=\"convertToInteractive('df-3ed962f1-9e53-4597-b2b0-1fff408a1c56')\"\n",
              "              title=\"Convert this dataframe to an interactive table.\"\n",
              "              style=\"display:none;\">\n",
              "        \n",
              "  <svg xmlns=\"http://www.w3.org/2000/svg\" height=\"24px\"viewBox=\"0 0 24 24\"\n",
              "       width=\"24px\">\n",
              "    <path d=\"M0 0h24v24H0V0z\" fill=\"none\"/>\n",
              "    <path d=\"M18.56 5.44l.94 2.06.94-2.06 2.06-.94-2.06-.94-.94-2.06-.94 2.06-2.06.94zm-11 1L8.5 8.5l.94-2.06 2.06-.94-2.06-.94L8.5 2.5l-.94 2.06-2.06.94zm10 10l.94 2.06.94-2.06 2.06-.94-2.06-.94-.94-2.06-.94 2.06-2.06.94z\"/><path d=\"M17.41 7.96l-1.37-1.37c-.4-.4-.92-.59-1.43-.59-.52 0-1.04.2-1.43.59L10.3 9.45l-7.72 7.72c-.78.78-.78 2.05 0 2.83L4 21.41c.39.39.9.59 1.41.59.51 0 1.02-.2 1.41-.59l7.78-7.78 2.81-2.81c.8-.78.8-2.07 0-2.86zM5.41 20L4 18.59l7.72-7.72 1.47 1.35L5.41 20z\"/>\n",
              "  </svg>\n",
              "      </button>\n",
              "      \n",
              "  <style>\n",
              "    .colab-df-container {\n",
              "      display:flex;\n",
              "      flex-wrap:wrap;\n",
              "      gap: 12px;\n",
              "    }\n",
              "\n",
              "    .colab-df-convert {\n",
              "      background-color: #E8F0FE;\n",
              "      border: none;\n",
              "      border-radius: 50%;\n",
              "      cursor: pointer;\n",
              "      display: none;\n",
              "      fill: #1967D2;\n",
              "      height: 32px;\n",
              "      padding: 0 0 0 0;\n",
              "      width: 32px;\n",
              "    }\n",
              "\n",
              "    .colab-df-convert:hover {\n",
              "      background-color: #E2EBFA;\n",
              "      box-shadow: 0px 1px 2px rgba(60, 64, 67, 0.3), 0px 1px 3px 1px rgba(60, 64, 67, 0.15);\n",
              "      fill: #174EA6;\n",
              "    }\n",
              "\n",
              "    [theme=dark] .colab-df-convert {\n",
              "      background-color: #3B4455;\n",
              "      fill: #D2E3FC;\n",
              "    }\n",
              "\n",
              "    [theme=dark] .colab-df-convert:hover {\n",
              "      background-color: #434B5C;\n",
              "      box-shadow: 0px 1px 3px 1px rgba(0, 0, 0, 0.15);\n",
              "      filter: drop-shadow(0px 1px 2px rgba(0, 0, 0, 0.3));\n",
              "      fill: #FFFFFF;\n",
              "    }\n",
              "  </style>\n",
              "\n",
              "      <script>\n",
              "        const buttonEl =\n",
              "          document.querySelector('#df-3ed962f1-9e53-4597-b2b0-1fff408a1c56 button.colab-df-convert');\n",
              "        buttonEl.style.display =\n",
              "          google.colab.kernel.accessAllowed ? 'block' : 'none';\n",
              "\n",
              "        async function convertToInteractive(key) {\n",
              "          const element = document.querySelector('#df-3ed962f1-9e53-4597-b2b0-1fff408a1c56');\n",
              "          const dataTable =\n",
              "            await google.colab.kernel.invokeFunction('convertToInteractive',\n",
              "                                                     [key], {});\n",
              "          if (!dataTable) return;\n",
              "\n",
              "          const docLinkHtml = 'Like what you see? Visit the ' +\n",
              "            '<a target=\"_blank\" href=https://colab.research.google.com/notebooks/data_table.ipynb>data table notebook</a>'\n",
              "            + ' to learn more about interactive tables.';\n",
              "          element.innerHTML = '';\n",
              "          dataTable['output_type'] = 'display_data';\n",
              "          await google.colab.output.renderOutput(dataTable, element);\n",
              "          const docLink = document.createElement('div');\n",
              "          docLink.innerHTML = docLinkHtml;\n",
              "          element.appendChild(docLink);\n",
              "        }\n",
              "      </script>\n",
              "    </div>\n",
              "  </div>\n",
              "  "
            ]
          },
          "metadata": {},
          "execution_count": 9
        }
      ]
    },
    {
      "cell_type": "markdown",
      "source": [
        "Build a Library"
      ],
      "metadata": {
        "id": "1bFthhJluAD4"
      }
    },
    {
      "cell_type": "code",
      "source": [
        "\n",
        "word_index_integer=dict(zip(word_index_integer.Words,word_index_integer.Indexes))\n",
        "\n",
        "word_index_integer[\"<PAD>\"]=0\n",
        "word_index_integer[\"<START\"]=1\n",
        "word_index_integer[\"<UNK>\"]=2\n",
        "word_index_integer[\"<UNUSED>\"]=3"
      ],
      "metadata": {
        "id": "LtjjAXzWdGqI"
      },
      "execution_count": 10,
      "outputs": []
    },
    {
      "cell_type": "markdown",
      "source": [
        "Encode the text"
      ],
      "metadata": {
        "id": "R9QI0bIfuR5V"
      }
    },
    {
      "cell_type": "code",
      "source": [
        "def encode_reviews(text):\n",
        "  encode = [word_index_integer[word] for word in text]\n",
        "  return encode\n",
        "\n"
      ],
      "metadata": {
        "id": "ejGUrnGqdown"
      },
      "execution_count": 13,
      "outputs": []
    },
    {
      "cell_type": "code",
      "source": [
        "train_data,train_labels=train_review_imdb['Reviews'],test_review_imdb['Sentiment']\n",
        "test_data, test_labels=train_review_imdb['Reviews'],test_review_imdb['Sentiment']\n"
      ],
      "metadata": {
        "id": "7QUeoa2DehyR"
      },
      "execution_count": 14,
      "outputs": []
    },
    {
      "cell_type": "code",
      "source": [
        "train_data=train_data.apply(lambda review:review.split())\n",
        "test_data=test_data.apply(lambda review:review.split())\n",
        "\n"
      ],
      "metadata": {
        "id": "tdB48XNQeGzR"
      },
      "execution_count": 15,
      "outputs": []
    },
    {
      "cell_type": "code",
      "source": [
        "train_data.head()"
      ],
      "metadata": {
        "colab": {
          "base_uri": "https://localhost:8080/"
        },
        "id": "CR2I9Rc6i_UI",
        "outputId": "4949630d-45fe-4256-eb97-aa69c8044dc8"
      },
      "execution_count": 16,
      "outputs": [
        {
          "output_type": "execute_result",
          "data": {
            "text/plain": [
              "0    [<START, this, film, was, just, brilliant, cas...\n",
              "1    [<START, big, hair, big, boobs, bad, music, an...\n",
              "2    [<START, this, has, to, be, one, of, the, wors...\n",
              "3    [<START, the, <UNK>, <UNK>, at, storytelling, ...\n",
              "4    [<START, worst, mistake, of, my, life, br, br,...\n",
              "Name: Reviews, dtype: object"
            ]
          },
          "metadata": {},
          "execution_count": 16
        }
      ]
    },
    {
      "cell_type": "code",
      "source": [
        "train_data=train_data.apply(encode_reviews)\n",
        "test_data=test_data.apply(encode_reviews)\n",
        "\n"
      ],
      "metadata": {
        "id": "wEB3Pqa6eMMH"
      },
      "execution_count": 17,
      "outputs": []
    },
    {
      "cell_type": "code",
      "source": [
        "train_data.head()"
      ],
      "metadata": {
        "colab": {
          "base_uri": "https://localhost:8080/"
        },
        "id": "odaBldU8l-OC",
        "outputId": "32a8ea5d-d92a-4ef9-b57c-87e78e3ea50a"
      },
      "execution_count": 18,
      "outputs": [
        {
          "output_type": "execute_result",
          "data": {
            "text/plain": [
              "0    [1, 14, 22, 16, 43, 530, 973, 1622, 1385, 65, ...\n",
              "1    [1, 194, 1153, 194, 8255, 78, 228, 5, 6, 1463,...\n",
              "2    [1, 14, 47, 8, 30, 31, 7, 4, 249, 108, 7, 4, 5...\n",
              "3    [1, 4, 2, 2, 33, 2804, 4, 2040, 432, 111, 153,...\n",
              "4    [1, 249, 1323, 7, 61, 113, 10, 10, 13, 1637, 1...\n",
              "Name: Reviews, dtype: object"
            ]
          },
          "metadata": {},
          "execution_count": 18
        }
      ]
    },
    {
      "cell_type": "markdown",
      "source": [
        "Encode the labels"
      ],
      "metadata": {
        "id": "KeV1dMQtuoGc"
      }
    },
    {
      "cell_type": "code",
      "source": [
        "def encode_sentiments(x):\n",
        "  if x=='negative':\n",
        "    return 0\n",
        "  else:\n",
        "    return 1\n",
        "\n",
        "train_labels=train_labels.apply(encode_sentiments)\n",
        "test_labels=test_labels.apply(encode_sentiments)"
      ],
      "metadata": {
        "id": "N-Wy_gOLsmSe"
      },
      "execution_count": 19,
      "outputs": []
    },
    {
      "cell_type": "code",
      "source": [
        "train_labels.head()"
      ],
      "metadata": {
        "colab": {
          "base_uri": "https://localhost:8080/"
        },
        "id": "6tG8Hr4tu0fS",
        "outputId": "b6fe1037-f915-43e2-e463-229d86a8e65e"
      },
      "execution_count": 20,
      "outputs": [
        {
          "output_type": "execute_result",
          "data": {
            "text/plain": [
              "0    0\n",
              "1    1\n",
              "2    1\n",
              "3    0\n",
              "4    1\n",
              "Name: Sentiment, dtype: int64"
            ]
          },
          "metadata": {},
          "execution_count": 20
        }
      ]
    },
    {
      "cell_type": "markdown",
      "source": [
        "Preprocessing"
      ],
      "metadata": {
        "id": "chaWaWPtvH9Z"
      }
    },
    {
      "cell_type": "code",
      "source": [
        "train_data=keras.preprocessing.sequence.pad_sequences(train_data,value=word_index_integer[\"<PAD>\"],padding='post',maxlen=500)\n",
        "test_data=keras.preprocessing.sequence.pad_sequences(test_data,value=word_index_integer[\"<PAD>\"],padding='post',maxlen=500)"
      ],
      "metadata": {
        "id": "KvaPd9dNu92o"
      },
      "execution_count": 21,
      "outputs": []
    },
    {
      "cell_type": "markdown",
      "source": [
        "Confusion Matrix"
      ],
      "metadata": {
        "id": "rZMftyjeRMwe"
      }
    },
    {
      "cell_type": "code",
      "source": [
        "def CM(model,input,output):\n",
        "    output_pred = model.predict(input)\n",
        "    acc = accuracy_score(output, output_pred)\n",
        "    f1=f1_score(output, output_pred)\n",
        "    cm=confusion_matrix(output, output_pred)\n",
        "    report=classification_report(output, output_pred)\n",
        "    plt.figure(figsize=(8,8))\n",
        "    sns.heatmap(cm,annot=True,cmap='PiYG',xticklabels=[0,1],fmt='d', annot_kws={\"fontsize\":20})\n",
        "    plt.xlabel(\"Predicted\",fontsize=15)\n",
        "    plt.ylabel(\"Actual\",fontsize=15)\n",
        "    plt.show()\n",
        "    print(\"\\nAccuracy: \",round(acc,2))\n",
        "    print(\"\\nF1 Score: \",round(f1,2))\n",
        "\n",
        "    print(\"\\nReport:\",report)"
      ],
      "metadata": {
        "id": "RDsBVnzDvvT8"
      },
      "execution_count": 35,
      "outputs": []
    },
    {
      "cell_type": "markdown",
      "source": [
        "XGBoost"
      ],
      "metadata": {
        "id": "a_Y42iBbSZD3"
      }
    },
    {
      "cell_type": "code",
      "source": [
        "model_1 = XGBClassifier() \n",
        "model_1.fit(train_data, train_labels)\n",
        "CM(model_1,test_data, test_labels)\n",
        "\n"
      ],
      "metadata": {
        "id": "e6yzymIgSPLP"
      },
      "execution_count": null,
      "outputs": []
    },
    {
      "cell_type": "code",
      "source": [
        "CM(model_1,test_data, test_labels)"
      ],
      "metadata": {
        "colab": {
          "base_uri": "https://localhost:8080/",
          "height": 759
        },
        "id": "Lci0NbQHU8gV",
        "outputId": "81299ca1-2b63-4792-c153-db12610b9d39"
      },
      "execution_count": 46,
      "outputs": [
        {
          "output_type": "display_data",
          "data": {
            "text/plain": [
              "<Figure size 576x576 with 2 Axes>"
            ],
            "image/png": "[encoded data removed]"
          },
          "metadata": {
            "needs_background": "light"
          }
        },
        {
          "output_type": "stream",
          "name": "stdout",
          "text": [
            "\n",
            "Accuracy:  0.65\n",
            "\n",
            "F1 Score:  0.64\n",
            "\n",
            "Report:               precision    recall  f1-score   support\n",
            "\n",
            "           0       0.64      0.69      0.66     12500\n",
            "           1       0.66      0.61      0.64     12500\n",
            "\n",
            "    accuracy                           0.65     25000\n",
            "   macro avg       0.65      0.65      0.65     25000\n",
            "weighted avg       0.65      0.65      0.65     25000\n",
            "\n"
          ]
        }
      ]
    },
    {
      "cell_type": "markdown",
      "source": [
        "RandomForest"
      ],
      "metadata": {
        "id": "YgyUDRmVWYfC"
      }
    },
    {
      "cell_type": "code",
      "source": [
        "model_2 = RandomForestClassifier(n_estimators = 100, max_depth = 5 )\n",
        "model_2.fit(train_data, train_labels)"
      ],
      "metadata": {
        "colab": {
          "base_uri": "https://localhost:8080/"
        },
        "id": "-RpuLvjdTuzg",
        "outputId": "d0e71a18-16d9-4c5b-c0e5-0ccb8ff2bb4c"
      },
      "execution_count": 43,
      "outputs": [
        {
          "output_type": "execute_result",
          "data": {
            "text/plain": [
              "RandomForestClassifier(max_depth=5)"
            ]
          },
          "metadata": {},
          "execution_count": 43
        }
      ]
    },
    {
      "cell_type": "code",
      "source": [
        "CM(model_2,test_data, test_labels)"
      ],
      "metadata": {
        "colab": {
          "base_uri": "https://localhost:8080/",
          "height": 760
        },
        "id": "F9CoPfKiUwUH",
        "outputId": "01ccc4c1-eec1-459d-9e97-5801f9858222"
      },
      "execution_count": 45,
      "outputs": [
        {
          "output_type": "display_data",
          "data": {
            "text/plain": [
              "<Figure size 576x576 with 2 Axes>"
            ],
            "image/png": "[encoded data removed]"
          },
          "metadata": {
            "needs_background": "light"
          }
        },
        {
          "output_type": "stream",
          "name": "stdout",
          "text": [
            "\n",
            "Accuracy:  0.65\n",
            "\n",
            "F1 Score:  0.62\n",
            "\n",
            "Report:               precision    recall  f1-score   support\n",
            "\n",
            "           0       0.63      0.72      0.67     12500\n",
            "           1       0.67      0.57      0.62     12500\n",
            "\n",
            "    accuracy                           0.65     25000\n",
            "   macro avg       0.65      0.65      0.64     25000\n",
            "weighted avg       0.65      0.65      0.64     25000\n",
            "\n"
          ]
        }
      ]
    },
    {
      "cell_type": "markdown",
      "source": [
        "Neural Network - Keras"
      ],
      "metadata": {
        "id": "SsikddB1SYbf"
      }
    },
    {
      "cell_type": "code",
      "source": [
        "model_3=keras.Sequential([keras.layers.Embedding(10000,16,input_length=500),\n",
        "                        keras.layers.GlobalAveragePooling1D(),\n",
        "                        keras.layers.Dense(16,activation='relu'),\n",
        "                        keras.layers.Dense(1,activation='sigmoid')])\n",
        "\n",
        "callback = EarlyStopping(monitor='val_loss', patience=10)\n",
        "print(model_3.summary())\n",
        "model_3.compile(optimizer='adam',loss='binary_crossentropy',metrics=['accuracy'])\n",
        "\n",
        "\n",
        "\n",
        "history=model_3.fit(train_data,train_labels,epochs=50,batch_size=128,validation_split=0.2,callbacks=[callback])\n",
        "\n",
        "\n",
        "\n",
        "loss,accuracy=model_3.evaluate(test_data,test_labels)\n",
        "#y_pred_1 = model_3.predict(test_data)"
      ],
      "metadata": {
        "colab": {
          "base_uri": "https://localhost:8080/"
        },
        "id": "iC6dChhSVzJK",
        "outputId": "aadc3ddf-bfa2-472c-ed5b-6ddb421da094"
      },
      "execution_count": 61,
      "outputs": [
        {
          "output_type": "stream",
          "name": "stdout",
          "text": [
            "Model: \"sequential_4\"\n",
            "_________________________________________________________________\n",
            " Layer (type)                Output Shape              Param #   \n",
            "=================================================================\n",
            " embedding_4 (Embedding)     (None, 500, 16)           160000    \n",
            "                                                                 \n",
            " global_average_pooling1d_4   (None, 16)               0         \n",
            " (GlobalAveragePooling1D)                                        \n",
            "                                                                 \n",
            " dense_8 (Dense)             (None, 16)                272       \n",
            "                                                                 \n",
            " dense_9 (Dense)             (None, 1)                 17        \n",
            "                                                                 \n",
            "=================================================================\n",
            "Total params: 160,289\n",
            "Trainable params: 160,289\n",
            "Non-trainable params: 0\n",
            "_________________________________________________________________\n",
            "None\n",
            "Epoch 1/50\n",
            "157/157 [==============================] - 2s 8ms/step - loss: 0.6932 - accuracy: 0.4970 - val_loss: 0.6931 - val_accuracy: 0.5144\n",
            "Epoch 2/50\n",
            "157/157 [==============================] - 1s 8ms/step - loss: 0.6931 - accuracy: 0.5011 - val_loss: 0.6934 - val_accuracy: 0.4894\n",
            "Epoch 3/50\n",
            "157/157 [==============================] - 1s 8ms/step - loss: 0.6929 - accuracy: 0.5053 - val_loss: 0.6930 - val_accuracy: 0.5074\n",
            "Epoch 4/50\n",
            "157/157 [==============================] - 1s 7ms/step - loss: 0.6923 - accuracy: 0.5194 - val_loss: 0.6946 - val_accuracy: 0.4894\n",
            "Epoch 5/50\n",
            "157/157 [==============================] - 1s 7ms/step - loss: 0.6903 - accuracy: 0.5433 - val_loss: 0.6932 - val_accuracy: 0.5052\n",
            "Epoch 6/50\n",
            "157/157 [==============================] - 1s 8ms/step - loss: 0.6841 - accuracy: 0.5831 - val_loss: 0.6946 - val_accuracy: 0.5008\n",
            "Epoch 7/50\n",
            "157/157 [==============================] - 1s 7ms/step - loss: 0.6714 - accuracy: 0.6155 - val_loss: 0.6968 - val_accuracy: 0.4996\n",
            "Epoch 8/50\n",
            "157/157 [==============================] - 1s 8ms/step - loss: 0.6516 - accuracy: 0.6474 - val_loss: 0.7060 - val_accuracy: 0.4966\n",
            "Epoch 9/50\n",
            "157/157 [==============================] - 1s 7ms/step - loss: 0.6311 - accuracy: 0.6646 - val_loss: 0.7186 - val_accuracy: 0.4950\n",
            "Epoch 10/50\n",
            "157/157 [==============================] - 1s 8ms/step - loss: 0.6093 - accuracy: 0.6852 - val_loss: 0.7341 - val_accuracy: 0.4954\n",
            "Epoch 11/50\n",
            "157/157 [==============================] - 1s 7ms/step - loss: 0.5921 - accuracy: 0.6896 - val_loss: 0.7426 - val_accuracy: 0.5000\n",
            "Epoch 12/50\n",
            "157/157 [==============================] - 1s 7ms/step - loss: 0.5741 - accuracy: 0.7066 - val_loss: 0.7591 - val_accuracy: 0.4984\n",
            "Epoch 13/50\n",
            "157/157 [==============================] - 1s 7ms/step - loss: 0.5588 - accuracy: 0.7182 - val_loss: 0.7858 - val_accuracy: 0.4970\n",
            "782/782 [==============================] - 2s 2ms/step - loss: 0.5921 - accuracy: 0.6837\n"
          ]
        }
      ]
    },
    {
      "cell_type": "code",
      "source": [
        "plt.figure(figsize=(8,8))\n",
        "sns.heatmap(confusion_matrix(test_labels, (model_3.predict(test_data) > 0.5).astype(\"int32\")),annot=True,cmap='PiYG',xticklabels=[0,1],fmt='d',annot_kws={\"fontsize\":19})\n",
        "plt.xlabel(\"Predicted\",fontsize=16)\n",
        "plt.ylabel(\"Actual\",fontsize=16)\n",
        "plt.show()"
      ],
      "metadata": {
        "colab": {
          "base_uri": "https://localhost:8080/",
          "height": 502
        },
        "id": "l7-WuMwfWCMd",
        "outputId": "9c0629cd-c785-4f67-a24a-4b4d5236eddd"
      },
      "execution_count": 62,
      "outputs": [
        {
          "output_type": "display_data",
          "data": {
            "text/plain": [
              "<Figure size 576x576 with 2 Axes>"
            ],
            "image/png": "[encoded data removed]"
          },
          "metadata": {
            "needs_background": "light"
          }
        }
      ]
    },
    {
      "cell_type": "markdown",
      "source": [
        "CNN_LSTM"
      ],
      "metadata": {
        "id": "EbS5AbfJaVXW"
      }
    },
    {
      "cell_type": "code",
      "source": [
        "\n",
        "callback = EarlyStopping(monitor='val_loss', patience=10)\n",
        "model_4 = Sequential()\n",
        "model_4.add(Embedding(input_dim=10000, output_dim=16, input_length=500))\n",
        "model_4.add(Conv1D(filters=32, kernel_size=3, padding='same', activation='relu'))\n",
        "model_4.add(MaxPooling1D(pool_size=2))\n",
        "model_4.add(LSTM(100))\n",
        "model_4.add(Dense(1, activation='sigmoid'))\n",
        "model_4.compile(loss='binary_crossentropy', optimizer='adam', metrics=['accuracy'])\n",
        "print(model_4.summary())\n",
        "\n",
        "history=model_4.fit(train_data,train_labels,epochs=50,batch_size=128,validation_split=0.2,callbacks=[callback])\n",
        "\n"
      ],
      "metadata": {
        "colab": {
          "base_uri": "https://localhost:8080/"
        },
        "id": "goS5mIkgZQA2",
        "outputId": "bc2c62dd-b1f0-4b2c-c883-14379f1adfed"
      },
      "execution_count": 65,
      "outputs": [
        {
          "output_type": "stream",
          "name": "stdout",
          "text": [
            "Model: \"sequential_7\"\n",
            "_________________________________________________________________\n",
            " Layer (type)                Output Shape              Param #   \n",
            "=================================================================\n",
            " embedding_7 (Embedding)     (None, 500, 16)           160000    \n",
            "                                                                 \n",
            " conv1d_2 (Conv1D)           (None, 500, 32)           1568      \n",
            "                                                                 \n",
            " max_pooling1d_2 (MaxPooling  (None, 250, 32)          0         \n",
            " 1D)                                                             \n",
            "                                                                 \n",
            " lstm_2 (LSTM)               (None, 100)               53200     \n",
            "                                                                 \n",
            " dense_12 (Dense)            (None, 1)                 101       \n",
            "                                                                 \n",
            "=================================================================\n",
            "Total params: 214,869\n",
            "Trainable params: 214,869\n",
            "Non-trainable params: 0\n",
            "_________________________________________________________________\n",
            "None\n",
            "Epoch 1/50\n",
            "157/157 [==============================] - 73s 451ms/step - loss: 0.6934 - accuracy: 0.4987 - val_loss: 0.6935 - val_accuracy: 0.4894\n",
            "Epoch 2/50\n",
            "157/157 [==============================] - 71s 450ms/step - loss: 0.6931 - accuracy: 0.4991 - val_loss: 0.6931 - val_accuracy: 0.4892\n",
            "Epoch 3/50\n",
            "157/157 [==============================] - 72s 457ms/step - loss: 0.6885 - accuracy: 0.5198 - val_loss: 0.6967 - val_accuracy: 0.4912\n",
            "Epoch 4/50\n",
            "157/157 [==============================] - 71s 453ms/step - loss: 0.6632 - accuracy: 0.5304 - val_loss: 0.7142 - val_accuracy: 0.5070\n",
            "Epoch 5/50\n",
            "157/157 [==============================] - 71s 451ms/step - loss: 0.6404 - accuracy: 0.5433 - val_loss: 0.7566 - val_accuracy: 0.4886\n",
            "Epoch 6/50\n",
            "157/157 [==============================] - 71s 454ms/step - loss: 0.6280 - accuracy: 0.5549 - val_loss: 0.7868 - val_accuracy: 0.4868\n",
            "Epoch 7/50\n",
            "157/157 [==============================] - 71s 451ms/step - loss: 0.6215 - accuracy: 0.5569 - val_loss: 0.8450 - val_accuracy: 0.5062\n",
            "Epoch 8/50\n",
            "157/157 [==============================] - 72s 460ms/step - loss: 0.6133 - accuracy: 0.5673 - val_loss: 0.8411 - val_accuracy: 0.5090\n",
            "Epoch 9/50\n",
            "157/157 [==============================] - 72s 457ms/step - loss: 0.6085 - accuracy: 0.5754 - val_loss: 0.8464 - val_accuracy: 0.4944\n",
            "Epoch 10/50\n",
            "157/157 [==============================] - 71s 451ms/step - loss: 0.6009 - accuracy: 0.5863 - val_loss: 0.8863 - val_accuracy: 0.4952\n",
            "Epoch 11/50\n",
            "157/157 [==============================] - 71s 453ms/step - loss: 0.5934 - accuracy: 0.5969 - val_loss: 0.8685 - val_accuracy: 0.5078\n",
            "Epoch 12/50\n",
            "157/157 [==============================] - 71s 453ms/step - loss: 0.5742 - accuracy: 0.6223 - val_loss: 0.9308 - val_accuracy: 0.4992\n"
          ]
        }
      ]
    },
    {
      "cell_type": "code",
      "source": [
        "plt.figure(figsize=(8,8))\n",
        "sns.heatmap(confusion_matrix(test_labels, (model_4.predict(test_data) > 0.5).astype(\"int32\")),annot=True,cmap='PiYG',xticklabels=[0,1],fmt='d',annot_kws={\"fontsize\":19})\n",
        "plt.xlabel(\"Predicted\",fontsize=16)\n",
        "plt.ylabel(\"Actual\",fontsize=16)\n",
        "plt.show()"
      ],
      "metadata": {
        "colab": {
          "base_uri": "https://localhost:8080/",
          "height": 502
        },
        "id": "C86eIbwTeMUk",
        "outputId": "084e726d-ebb6-46f7-fc8a-6d62e73827e1"
      },
      "execution_count": 66,
      "outputs": [
        {
          "output_type": "display_data",
          "data": {
            "text/plain": [
              "<Figure size 576x576 with 2 Axes>"
            ],
            "image/png": "[encoded data removed]"
          },
          "metadata": {
            "needs_background": "light"
          }
        }
      ]
    }
  ]
}